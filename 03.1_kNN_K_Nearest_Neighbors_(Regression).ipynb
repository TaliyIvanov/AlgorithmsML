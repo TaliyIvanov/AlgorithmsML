{
  "nbformat": 4,
  "nbformat_minor": 0,
  "metadata": {
    "colab": {
      "provenance": [],
      "toc_visible": true
    },
    "kernelspec": {
      "name": "python3",
      "display_name": "Python 3"
    },
    "language_info": {
      "name": "python"
    }
  },
  "cells": [
    {
      "cell_type": "markdown",
      "source": [
        "### Создание класса\n"
      ],
      "metadata": {
        "id": "2yjR5L2Om__7"
      }
    },
    {
      "cell_type": "markdown",
      "source": [
        "\n",
        "Создайте класс с именем MyKNNReg. Данный класс при инициализации должен принимать один параметр:\n",
        "\n",
        "k – кол-во ближайших соседей, которые будем рассматривать при подсчете ответа\n",
        "По-умолчанию: 3\n",
        "Все переданные (или дефолтные) параметры должны быть сохранены внутри класса.\n",
        "\n",
        "При обращении к экземпляру класса (или при передачи его в функцию print) необходимо распечатать строку по следующему шаблону:\n",
        "\n",
        "MyKNNReg class: k=<k>"
      ],
      "metadata": {
        "id": "CBCVBvCmnEP-"
      }
    },
    {
      "cell_type": "code",
      "execution_count": null,
      "metadata": {
        "id": "pEwr-Q8YkxtD"
      },
      "outputs": [],
      "source": [
        "class MyKNNReg():\n",
        "\n",
        "    def __init__(self, k=3):\n",
        "        self.k = k\n",
        "\n",
        "    def __str__(self):\n",
        "        params = (', ').join(f'{key}={value}' for key, value in self.__dict__.items())\n",
        "        return f'{__class__.__name__} class: {params}'"
      ]
    },
    {
      "cell_type": "markdown",
      "source": [
        "### Метод fit()"
      ],
      "metadata": {
        "id": "Nl-fPtH8qi1g"
      }
    },
    {
      "cell_type": "markdown",
      "source": [
        "Доработайте класс MyKNNReg следующим образом:\n",
        "\n",
        "В инициализатор класса добавьте переменную train_size. В ней будет храниться размер обучающей выборки.\n",
        "Добавьте в класс метод fit. Данный метод должен делать следующее:\n",
        "На вход принимать две переменные:\n",
        "- X — все фичи в виде датафрейма пандаса.\n",
        "- y — целевая переменная в виде пандасовской серии.\n",
        "Сохранять X и y внутри модели.\n",
        "Записать в переменную train_size размер тренировочной выборки (X) в виде кортежа:\n",
        "(количество_строк, количество_столбцов)\n",
        "Проверка\n",
        "\n",
        "Входные данные: несколько наборов тренировочных данных\n",
        "Выходные данные: значение переменной train_size"
      ],
      "metadata": {
        "id": "tM2zni56qjRQ"
      }
    },
    {
      "cell_type": "code",
      "source": [
        "class MyKNNReg():\n",
        "    def __init__(self, k=3):\n",
        "        self.k = k\n",
        "        self.X = None\n",
        "        self.y = None\n",
        "        self.train_size = None\n",
        "\n",
        "    def __str__(self):\n",
        "        params = (', ').join(f'{key}={value}' for key, value in self.__dict__.items())\n",
        "        return f'{__class__.__name__} class: {params}'\n",
        "\n",
        "    def fit(self, X:pd.DataFrame, y:pd.Series):\n",
        "        self.X = X\n",
        "        self.y = y\n",
        "        self.train_size = X.shape"
      ],
      "metadata": {
        "id": "C27IZLiUqjf-"
      },
      "execution_count": null,
      "outputs": []
    },
    {
      "cell_type": "markdown",
      "source": [
        "### Предсказание (Евклидовая метрика)"
      ],
      "metadata": {
        "id": "mujE1yPSsLCU"
      }
    },
    {
      "cell_type": "markdown",
      "source": [
        "### Метод `predict`\n",
        "\n",
        "- На вход принимает матрицу фичей в виде датафрейма `pandas`.\n",
        "- Для каждого объекта тестовой выборки последовательно выполняются следующие шаги:\n",
        "  1. Вычислить расстояние до каждого объекта из обучающей выборки.\n",
        "     - Сейчас расстояние будем вычислять по формуле Евклида. Для двух точек с тремя координатами (фичами) Евклидово расстояние считается так:\n",
        "\n",
        "     $$\n",
        "     D_{\\text{eucl}} = \\sqrt{(x_2 - x_1)^2 + (y_2 - y_1)^2 + (z_2 - z_1)^2}\n",
        "     $$\n",
        "\n",
        "     где:\n",
        "     - \\( x_1, y_1, z_1 \\) – координаты (или иные количественные свойства) первой точки,\n",
        "     - \\( x_2, y_2, z_2 \\) – координаты второй точки.\n",
        "  2. Отобрать \\( k \\) объектов обучающей выборки, расстояние до которых минимально.\n",
        "  3. Определить, какой класс наиболее часто встречается (мода) – это и будет классом целевого объекта.\n",
        "     - Если число объектов в каждом из классов одинаковое, возвращаем класс `1`.\n",
        "\n",
        "- **Заметка:** Рассматриваем только задачу бинарной классификации (с классами `0` и `1`).\n",
        "- Вернуть вектор предсказаний."
      ],
      "metadata": {
        "id": "ER-vCIxVsK65"
      }
    },
    {
      "cell_type": "code",
      "source": [
        "class MyKNNReg():\n",
        "    def __init__(self, k=3):\n",
        "        self.k = k\n",
        "        self.X = None\n",
        "        self.y = None\n",
        "        self.train_size = None\n",
        "\n",
        "    def __str__(self):\n",
        "        params = (', ').join(f'{key}={value}' for key, value in self.__dict__.items())\n",
        "        return f'{__class__.__name__} class: {params}'\n",
        "\n",
        "    def fit(self, X:pd.DataFrame, y:pd.Series):\n",
        "        self.X = X\n",
        "        self.y = y\n",
        "        self.train_size = X.shape\n",
        "\n",
        "    def compute_distances(self, X_test:pd.DataFrame):\n",
        "        distances = np.sqrt(((self.X.values - X_test.values[:, np.newaxis]) ** 2).sum(axis=2))\n",
        "        return distances\n",
        "\n",
        "    def predict(self, X_test:pd.DataFrame):\n",
        "        distances = self.compute_distances(X_test)\n",
        "        # отбор соседей с минимальным расстоянием до них\n",
        "        nearest_neighbors = np.argsort(distances, axis=1)[:, :self.k]\n",
        "        # классы ближайших соседей\n",
        "        nearest_labels = self.y.values[nearest_neighbors]\n",
        "        # Усреднение таргета среди отобранных соседей\n",
        "        predict_labels = nearest_labels.mean(axis=1)\n",
        "        return np.array(predict_labels)\n"
      ],
      "metadata": {
        "id": "khFJBoBbsKXw"
      },
      "execution_count": null,
      "outputs": []
    },
    {
      "cell_type": "markdown",
      "source": [
        "### Добавление большего кол-ва вариантов дистанций"
      ],
      "metadata": {
        "id": "DcNOAyNeyLQn"
      }
    },
    {
      "cell_type": "markdown",
      "source": [
        "Добавьте в класс `MyKNNReg` параметр `metric`, который принимает одно из следующих значений:\n",
        "- `euclidean`\n",
        "- `chebyshev`\n",
        "- `manhattan`\n",
        "- `cosine`\n",
        "\n",
        "Значение по умолчанию: `euclidean`.\n",
        "\n",
        "При обучении и вычислении расстояния между точками должна использоваться соответствующая метрика. Вспомним, как они рассчитываются:\n",
        "\n",
        "### Евклидово расстояние:\n",
        "$$\n",
        "D_{\\text{eucl}} = \\sqrt{(x_2 - x_1)^2 + (y_2 - y_1)^2 + (z_2 - z_1)^2}\n",
        "$$\n",
        "\n",
        "### Расстояние Чебышёва:\n",
        "$$\n",
        "D_{\\text{cheb}} = \\max\\left( |x_2 - x_1|, |y_2 - y_1|, |z_2 - z_1| \\right)\n",
        "$$\n",
        "\n",
        "### Манхэттенское расстояние:\n",
        "$$\n",
        "D_{\\text{manh}} = |x_2 - x_1| + |y_2 - y_1| + |z_2 - z_1|\n",
        "$$\n",
        "\n",
        "### Косинусное расстояние:\n",
        "$$\n",
        "D_{\\text{cos}} = 1 - \\frac{x_1 x_2 + y_1 y_2 + z_1 z_2}{\\sqrt{x_1^2 + y_1^2 + z_1^2} \\cdot \\sqrt{x_2^2 + y_2^2 + z_2^2}}\n",
        "$$\n"
      ],
      "metadata": {
        "id": "bnaKAneQyPNb"
      }
    },
    {
      "cell_type": "code",
      "source": [
        "class MyKNNReg():\n",
        "    def __init__(self, k=3, metric='euclidean'):\n",
        "        self.k = k\n",
        "        self.X = None\n",
        "        self.y = None\n",
        "        self.train_size = None\n",
        "        self.metric = metric\n",
        "\n",
        "    def __str__(self):\n",
        "        params = (', ').join(f'{key}={value}' for key, value in self.__dict__.items())\n",
        "        return f'{__class__.__name__} class: {params}'\n",
        "\n",
        "    def fit(self, X:pd.DataFrame, y:pd.Series):\n",
        "        self.X = X\n",
        "        self.y = y\n",
        "        self.train_size = X.shape\n",
        "\n",
        "    def compute_distances(self, X_test:pd.DataFrame):\n",
        "        if self.metric == 'euclidean':\n",
        "            distances = np.sqrt(((self.X.values - X_test.values[:, np.newaxis]) ** 2).sum(axis=2))\n",
        "            return distances\n",
        "        elif self.metric == 'chebyshev':\n",
        "            distances = np.max(np.abs(self.X.values - X_test.values[:, np.newaxis]), axis=2)\n",
        "            return distances\n",
        "        elif self.metric == 'manhattan':\n",
        "            distances = np.abs(self.X.values - X_test.values[:, np.newaxis]).sum(axis=2)\n",
        "            return distances\n",
        "        elif self.metric == 'cosine':\n",
        "            X_norm = np.linalg.norm(self.X.values, axis=1)\n",
        "            X_test_norm = np.linalg.norm(X_test.values, axis=1)[:, np.newaxis]\n",
        "            cosine_similarity = np.dot(X_test.values, self.X.values.T) / (X_test_norm * X_norm)\n",
        "            distances = 1 - cosine_similarity\n",
        "            return distances\n",
        "        else:\n",
        "          return f'Ошибка: Введите корректную метрику!'\n",
        "\n",
        "    def predict(self, X_test:pd.DataFrame):\n",
        "        distances = self.compute_distances(X_test)\n",
        "        # отбор соседей с минимальным расстоянием до них\n",
        "        nearest_neighbors = np.argsort(distances, axis=1)[:, :self.k]\n",
        "        # классы ближайших соседей\n",
        "        nearest_labels = self.y.values[nearest_neighbors]\n",
        "        # Усреднение таргета среди отобранных соседей\n",
        "        predict_labels = nearest_labels.mean(axis=1)\n",
        "        return np.array(predict_labels)"
      ],
      "metadata": {
        "id": "wb6dvJnUyOh3"
      },
      "execution_count": null,
      "outputs": []
    },
    {
      "cell_type": "markdown",
      "source": [
        "### Взвещенный KNN"
      ],
      "metadata": {
        "id": "aV9vy2TU09xf"
      }
    },
    {
      "cell_type": "markdown",
      "source": [
        "Добавьте в класс MyKNNReg параметр weight, которые принимает одно из следующих значений:\n",
        "\n",
        "uniform\n",
        "rank\n",
        "distance\n",
        "Значение по-умолчанию: uniform\n",
        "\n",
        "Внесите следуюшие изменения в работу алгоритма:\n",
        "\n",
        "Если weight = uniform работаем как и раньше.\n",
        "Если weight = rank или distance, то метод predict должен вычислять предсказания с учетом весов соседей. Формулы по которым вычисляются веса соседей приведены на предыдущем шаге."
      ],
      "metadata": {
        "id": "OZcQCuU51Etg"
      }
    },
    {
      "cell_type": "code",
      "source": [
        "class MyKNNReg():\n",
        "    def __init__(self, k=3, metric='euclidean', weight='uniform'):\n",
        "        self.k = k\n",
        "        self.X = None\n",
        "        self.y = None\n",
        "        self.train_size = None\n",
        "        self.metric = metric\n",
        "        self.weight = weight\n",
        "\n",
        "    def __str__(self):\n",
        "        params = (', ').join(f'{key}={value}' for key, value in self.__dict__.items())\n",
        "        return f'{self.__class__.__name__} class: {params}'\n",
        "\n",
        "    def fit(self, X: pd.DataFrame, y: pd.Series):\n",
        "        self.X = X\n",
        "        self.y = y\n",
        "        self.train_size = X.shape\n",
        "\n",
        "    def compute_distances(self, X_test: pd.DataFrame):\n",
        "        if self.metric == 'euclidean':\n",
        "            distances = np.sqrt(((self.X.values - X_test.values[:, np.newaxis]) ** 2).sum(axis=2))\n",
        "        elif self.metric == 'chebyshev':\n",
        "            distances = np.max(np.abs(self.X.values - X_test.values[:, np.newaxis]), axis=2)\n",
        "        elif self.metric == 'manhattan':\n",
        "            distances = np.abs(self.X.values - X_test.values[:, np.newaxis]).sum(axis=2)\n",
        "        elif self.metric == 'cosine':\n",
        "            X_norm = np.linalg.norm(self.X.values, axis=1)\n",
        "            X_test_norm = np.linalg.norm(X_test.values, axis=1)[:, np.newaxis]\n",
        "            cosine_similarity = np.dot(X_test.values, self.X.values.T) / (X_test_norm * X_norm)\n",
        "            distances = 1 - cosine_similarity\n",
        "        else:\n",
        "            raise ValueError(\"Ошибка: Введите корректную метрику!\")\n",
        "        return distances\n",
        "\n",
        "    def compute_labels(self, nearest_labels: np.ndarray, distances: np.ndarray, nearest_neighbors: np.ndarray):\n",
        "        # Предсказания с учетом весов\n",
        "        predicted_labels = []\n",
        "        for i in range(len(nearest_neighbors)):\n",
        "            if self.weight == 'uniform':\n",
        "                # Простое среднее значение\n",
        "                prediction = nearest_labels[i].mean()\n",
        "            elif self.weight == 'rank':\n",
        "                # Веса по рангу (обратный ранг)\n",
        "                ranks = np.arange(1, self.k + 1)  # ранжируем соседей от 1 до k\n",
        "                weights = 1 / ranks\n",
        "                weights /= weights.sum()  # нормализация весов\n",
        "                prediction = np.dot(nearest_labels[i], weights)\n",
        "            elif self.weight == 'distance':\n",
        "                # Веса по расстоянию (обратное расстояние)\n",
        "                neighbor_distances = distances[i, nearest_neighbors[i]]\n",
        "                weights = 1 / (neighbor_distances)\n",
        "                weights /= weights.sum()  # нормализация весов\n",
        "                prediction = np.dot(nearest_labels[i], weights)\n",
        "            else:\n",
        "                raise ValueError(\"Ошибка: Неверное значение параметра weight!\")\n",
        "\n",
        "            predicted_labels.append(prediction)\n",
        "        return predicted_labels\n",
        "\n",
        "    def predict(self, X_test: pd.DataFrame):\n",
        "        distances = self.compute_distances(X_test)\n",
        "        # Отбор индексов соседей с минимальным расстоянием\n",
        "        nearest_neighbors = np.argsort(distances, axis=1)[:, :self.k]\n",
        "        # Извлечение значений таргета ближайших соседей\n",
        "        nearest_labels = self.y.values[nearest_neighbors]\n",
        "        # Подсчёт предсказаний с учетом весов\n",
        "        predict_labels = self.compute_labels(nearest_labels, distances, nearest_neighbors)\n",
        "        return np.array(predict_labels)"
      ],
      "metadata": {
        "id": "svkI08Vk1EEQ"
      },
      "execution_count": null,
      "outputs": []
    }
  ]
}